{
  "cells": [
    {
      "cell_type": "markdown",
      "source": [
        "# Imbalanced Classes in Machine Learning\n",
        "![Strawberries v. Cherries](https://images.unsplash.com/photo-1527323928721-cd2f2bd43fe1?ixlib=rb-0.3.5&ixid=eyJhcHBfaWQiOjEyMDd9&s=4ccd32c39ea133b329e919a8e253e278&auto=format&fit=crop&w=2700&q=80)\n",
        "\n",
        "The image above evokes a sense of balance: the girl is hold roughly the same amout of strawberries and cherries. If I were to sample from those baskets to teach a machine to tell the difference, an estimated algorithm could differienate accurately after just a few samples. \n",
        "\n",
        "Now imagine: What if I only had a basket of strawberries and just a few cherries. Do you think an estimated machine learning algorithm could accurately differeniate?\n",
        "\nImbalance is common in datasets. Rarely do we see datsets with equal numbers of observation categories. Many machine learning applications expect imbalanced classes. Domains such as fraud detection, signal detection, and customer churn often have heavily imbalanced classes. "
      ],
      "metadata": {}
    },
    {
      "cell_type": "markdown",
      "source": [
        "## Accuracy Paradox\n",
        "Enter the [accuracy paradox](https://en.wikipedia.org/wiki/Accuracy_paradox). \n",
        "\n",
        "The case in which a model's has excellent accuracy (~ >90%), but the accuracy only reflects the underlying class distribution. \n",
        "\nMost of you have already encountered this problem, but do you know how to deal with it?"
      ],
      "metadata": {}
    },
    {
      "cell_type": "markdown",
      "source": [
        "## Strategies to Combat Imbanced Classes\n",
        "\n",
        "* Different performance metrics\n",
        "* Resample your data (up-sample & down-sample)\n",
        "* Test different algorithms (tree-based methods)\n",
        "* Try penalized models\n",
        "* Change perspective"
      ],
      "metadata": {}
    },
    {
      "cell_type": "markdown",
      "source": [
        "### Diferent performance metrics\n",
        "* *Confusion Matrix*: A breakdown of predictions into a table showing * correct predictions (the diagonal) and the types of incorrect predictions made (what classes incorrect predictions were assigned).\n",
        "* *Precision*: A measure of a classifiers exactness.\n",
        "* *Recall*: A measure of a classifiers completeness\n",
        "* *F1 Score* (or F-score): A weighted average of precision and recall.\n",
        "* *Kappa* (or Cohen’s kappa): Classification accuracy normalized by the imbalance of the classes in the data."
      ],
      "metadata": {
        "collapsed": false,
        "outputHidden": false,
        "inputHidden": false
      }
    },
    {
      "cell_type": "markdown",
      "source": [
        "### Resampling your data\n",
        "![Downsampling](https://chrisalbon.com/images/machine_learning_flashcards/Downsampling_print.png)\n",
        "\n",
        "Check out the technique of Chris Albon's [blog](https://chrisalbon.com/machine_learning/preprocessing_structured_data/handling_imbalanced_classes_with_downsampling/)\n",
        "\nP.S. Chris Albon is a godsend. Read his stuff. "
      ],
      "metadata": {}
    },
    {
      "cell_type": "markdown",
      "source": [
        "![Upsampling](https://chrisalbon.com/images/machine_learning_flashcards/Upsampling_print.png)\n",
        "\n[How to upsample](https://chrisalbon.com/machine_learning/preprocessing_structured_data/handling_imbalanced_classes_with_upsampling/)"
      ],
      "metadata": {}
    },
    {
      "cell_type": "markdown",
      "source": [
        "### Test different algorithms\n",
        "If your choosen algorith isn't performing well with imbalanced data, try something else! Several tree based methods just as boosting and bagging are well suited to handling imbalanced data. Try models such as XGBoost or Ada-boost on your imbalnced data. They hanlde imbalance natively. "
      ],
      "metadata": {}
    },
    {
      "cell_type": "markdown",
      "source": [
        "### Try penalized models\n",
        "\n",
        "Make mistakes costly! There are ways to penalized misclassification during training. \n",
        "\nYou can modify the parameters of sklearn's SVM to create a \"Penalized-SVM\" model. See this blog [post](https://elitedatascience.com/imbalanced-classes)"
      ],
      "metadata": {}
    }
  ],
  "metadata": {
    "kernel_info": {
      "name": "python3"
    },
    "language_info": {
      "name": "python",
      "version": "3.6.5",
      "mimetype": "text/x-python",
      "codemirror_mode": {
        "name": "ipython",
        "version": 3
      },
      "pygments_lexer": "ipython3",
      "nbconvert_exporter": "python",
      "file_extension": ".py"
    },
    "kernelspec": {
      "name": "python3",
      "language": "python",
      "display_name": "Python 3"
    },
    "nteract": {
      "version": "0.12.1"
    }
  },
  "nbformat": 4,
  "nbformat_minor": 4
}